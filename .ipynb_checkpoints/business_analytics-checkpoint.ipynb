{
 "cells": [
  {
   "cell_type": "code",
   "execution_count": 40,
   "metadata": {
    "scrolled": false
   },
   "outputs": [],
   "source": [
    "import pickle\n",
    "import os\n",
    "import glob\n",
    "import numpy as np\n",
    "from tqdm import tqdm\n",
    "from PIL import Image\n",
    "import torch\n",
    "import torchvision\n",
    "from time import time\n",
    "import matplotlib.pyplot as plt \n",
    "from torch.utils.data import Dataset, DataLoader\n",
    "from torchvision import transforms, utils\n",
    "import torch.nn.functional as F\n",
    "import torch.nn as nn"
   ]
  },
  {
   "cell_type": "code",
   "execution_count": 41,
   "metadata": {
    "scrolled": false
   },
   "outputs": [],
   "source": [
    "config = {\n",
    "    \"save\": False,\n",
    "    \"task\": \"neural_network\"\n",
    "}"
   ]
  },
  {
   "cell_type": "code",
   "execution_count": 42,
   "metadata": {
    "scrolled": false
   },
   "outputs": [
    {
     "name": "stdout",
     "output_type": "stream",
     "text": [
      "['０', '１', '２', '３', '４', '５', '６', '７', '８', '９', 'ａ', 'ｂ', 'ｃ', 'ｄ', 'ｅ', 'ｆ', 'ｇ', 'ｈ', 'ｉ', 'ｊ', 'ｋ', 'ｌ', 'ｍ', 'ｎ', 'ｏ', 'ｐ', 'ｑ', 'ｒ', 'ｓ', 'ｔ', 'ｕ', 'ｖ', 'ｗ', 'ｘ', 'ｙ', 'ｚ', 'Ａ', 'Ｂ', 'Ｃ', 'Ｄ', 'Ｅ', 'Ｆ', 'Ｇ', 'Ｈ', 'Ｉ', 'Ｊ', 'Ｋ', 'Ｌ', 'Ｍ', 'Ｎ', 'Ｏ', 'Ｐ', 'Ｑ', 'Ｒ', 'Ｓ', 'Ｔ', 'Ｕ', 'Ｖ', 'Ｗ', 'Ｘ', 'Ｙ', 'Ｚ', '啊', '阿', '埃', '挨', '哎', '唉', '哀', '皑', '癌', '蔼', '矮', '艾', '碍', '爱', '隘', '鞍', '氨', '安', '俺', '按', '暗', '岸', '胺', '案', '肮', '昂', '盎', '凹', '敖', '熬', '翱', '袄', '傲', '奥', '懊', '澳', '芭', '捌', '扒', '叭', '吧', '笆', '八', '疤', '巴', '拔', '跋', '靶', '把', '耙', '坝', '霸', '罢', '爸', '白', '柏', '百', '摆', '佰', '败', '拜', '稗', '斑', '班', '搬', '扳', '般', '颁', '板', '版', '扮', '拌', '伴', '瓣', '半', '办', '绊', '邦', '帮', '梆', '榜', '膀', '绑', '棒', '磅', '蚌', '镑', '傍', '谤', '苞', '胞', '包', '褒', '剥', '薄', '雹', '保', '堡', '饱', '宝', '抱', '报', '暴', '豹', '鲍', '爆', '杯', '碑', '悲', '卑', '北', '辈', '背', '贝', '钡', '倍', '狈', '备', '惫', '焙', '被', '奔', '苯', '本', '笨', '崩', '绷', '甭', '泵', '蹦', '迸', '逼', '鼻', '比', '鄙', '笔', '彼', '碧']\n"
     ]
    }
   ],
   "source": [
    "root = './character'\n",
    "label_path = os.path.join(root, 'labels.txt')\n",
    "char_dict = {}\n",
    "labels = []\n",
    "\n",
    "# 此处一定要加上encoding='GB2312-80',否则默认utf-8解析会出错\n",
    "with open(label_path, 'r', encoding='GB2312-80') as f:\n",
    "    label_str = f.read()\n",
    "    for i in range(len(label_str)):\n",
    "        char_dict[int(i)] = label_str[i]\n",
    "        labels.append(label_str[i])\n",
    "print(labels[0:200])\n",
    "lbls = labels"
   ]
  },
  {
   "cell_type": "code",
   "execution_count": 43,
   "metadata": {
    "scrolled": false
   },
   "outputs": [
    {
     "name": "stdout",
     "output_type": "stream",
     "text": [
      "number of char:  6825\n"
     ]
    }
   ],
   "source": [
    "# 可以看到一共有labels有6825个字符，与解析vectors文件得到的字符数是相同的\n",
    "print(\"number of char: \", len(char_dict))\n",
    "with open('char_dict_HIT-OR3C', 'wb') as f:\n",
    "    pickle.dump(char_dict, f)"
   ]
  },
  {
   "cell_type": "code",
   "execution_count": 44,
   "metadata": {
    "scrolled": false
   },
   "outputs": [],
   "source": [
    "# Process images\n",
    "dataset = glob.glob(os.path.join(root, '*_images'))\n",
    "save_dir = \"sample_dataset\""
   ]
  },
  {
   "cell_type": "code",
   "execution_count": 45,
   "metadata": {
    "scrolled": false
   },
   "outputs": [
    {
     "name": "stderr",
     "output_type": "stream",
     "text": [
      "  0%|          | 0/122 [00:00<?, ?it/s]\n"
     ]
    },
    {
     "data": {
      "image/png": "[encoded data removed]",
      "text/plain": [
       "<Figure size 432x288 with 1 Axes>"
      ]
     },
     "metadata": {
      "needs_background": "light"
     },
     "output_type": "display_data"
    }
   ],
   "source": [
    "for file_id in tqdm(range(len(dataset))):\n",
    "    path = dataset[file_id]\n",
    "    with open(path, 'rb') as f:\n",
    "        nChars = int(np.fromfile(f, dtype='int32', count=1)[0])\n",
    "        nCharPixelHeight = int(np.fromfile(f, dtype='uint8', count=1)[0])\n",
    "        nCharPixelWidth = int(np.fromfile(f, dtype='uint8', count=1)[0])\n",
    "        for n in [0]:\n",
    "            # get image\n",
    "            img = np.fromfile(f, dtype='uint8', count=nCharPixelWidth * nCharPixelHeight)\n",
    "            img = img.reshape(nCharPixelWidth, nCharPixelHeight)\n",
    "            plt.imshow(img, cmap=\"gray\")\n",
    "    break"
   ]
  },
  {
   "cell_type": "code",
   "execution_count": 46,
   "metadata": {
    "scrolled": false
   },
   "outputs": [],
   "source": [
    "class ChineseDataset(Dataset):\n",
    "    def __init__(self, files, labels, transform=None):\n",
    "        self.files = np.empty([0], dtype='uint8')\n",
    "        for file_id in tqdm(range(len(dataset))):\n",
    "            path = dataset[file_id]\n",
    "            with open(path, 'rb') as f:\n",
    "                self.nChars = len(dataset) * 200  # int(np.fromfile(f, dtype='int32', count=1)[0])\n",
    "                self.nCharPixelHeight = int(np.fromfile(f, dtype='uint8', count=1)[0])\n",
    "                self.nCharPixelWidth = int(np.fromfile(f, dtype='uint8', count=1)[0])\n",
    "                img = np.fromfile(f, dtype='uint8', count=200 * nCharPixelWidth * nCharPixelHeight)\n",
    "                self.files = np.append(self.files, img)\n",
    "        self.transform = transform\n",
    "    def __len__(self):\n",
    "        return len(dataset) * 200  # self.nChars\n",
    "    def __getitem__(self, idx):\n",
    "        if idx >= self.nChars:\n",
    "            raise IndexError\n",
    "        if torch.is_tensor(idx):\n",
    "            idx = idx.tolist()\n",
    "        imageUnit = nCharPixelWidth * nCharPixelHeight\n",
    "        img = self.files[idx * imageUnit:(idx + 1) * imageUnit]\n",
    "        img = img.reshape(nCharPixelWidth, nCharPixelHeight)  # better do with transform\n",
    "        if self.transform:\n",
    "            img = self.transform(img)\n",
    "        from random import randint\n",
    "        return (img, torch.Tensor([idx % 200]))"
   ]
  },
  {
   "cell_type": "code",
   "execution_count": 47,
   "metadata": {
    "scrolled": true
   },
   "outputs": [
    {
     "name": "stderr",
     "output_type": "stream",
     "text": [
      "100%|██████████| 122/122 [00:37<00:00,  3.23it/s]\n"
     ]
    },
    {
     "name": "stdout",
     "output_type": "stream",
     "text": [
      "6824\n",
      "torch.Size([1, 128, 128])\n"
     ]
    },
    {
     "data": {
      "image/png": "[encoded data removed]",
      "text/plain": [
       "<Figure size 432x288 with 1 Axes>"
      ]
     },
     "metadata": {
      "needs_background": "light"
     },
     "output_type": "display_data"
    }
   ],
   "source": [
    "class ReScale(object):\n",
    "    def __init__(self, size):\n",
    "        self.size = size\n",
    "    def __call__(self, sample):\n",
    "        img = F.interpolate(sample, self.size)\n",
    "        img = img.permute((0,2,1))\n",
    "        img = F.interpolate(img, self.size)\n",
    "        img = img.permute((0,2,1))\n",
    "        return img\n",
    "\n",
    "chineseDataset = ChineseDataset(dataset, labels, transforms.Compose([\n",
    "    transforms.ToTensor(),\n",
    "    transforms.Normalize((0.5,), (0.5,))  # ReScale(28)\n",
    "]))\n",
    "for value, label in chineseDataset:\n",
    "    print(i)\n",
    "    print(value.size())\n",
    "    plt.imshow(value.numpy().squeeze(), cmap='gray');\n",
    "    break"
   ]
  },
  {
   "cell_type": "code",
   "execution_count": 48,
   "metadata": {},
   "outputs": [
    {
     "data": {
      "image/png": "[encoded data removed]",
      "text/plain": [
       "<Figure size 432x288 with 100 Axes>"
      ]
     },
     "metadata": {
      "needs_background": "light"
     },
     "output_type": "display_data"
    }
   ],
   "source": [
    "figure = plt.figure()\n",
    "num_of_images = 100\n",
    "for index in range(1, num_of_images + 1):\n",
    "    plt.subplot(10, 10, index)\n",
    "    plt.axis('off')\n",
    "    plt.imshow(chineseDataset.__getitem__(index)[0].numpy().squeeze(), cmap='gray')"
   ]
  },
  {
   "cell_type": "code",
   "execution_count": 49,
   "metadata": {
    "scrolled": true
   },
   "outputs": [
    {
     "name": "stdout",
     "output_type": "stream",
     "text": [
      "0 torch.FloatTensor torch.Size([64, 1, 128, 128])\n"
     ]
    }
   ],
   "source": [
    "loader = torch.utils.data.DataLoader(chineseDataset, batch_size=64, shuffle=True)\n",
    "\n",
    "for i_batch, data in enumerate(loader):\n",
    "    sample_batched = data[0]\n",
    "    print(i_batch, sample_batched.type(), sample_batched.size())\n",
    "    break"
   ]
  },
  {
   "cell_type": "code",
   "execution_count": 50,
   "metadata": {},
   "outputs": [
    {
     "name": "stdout",
     "output_type": "stream",
     "text": [
      "Sequential(\n",
      "  (0): Linear(in_features=16384, out_features=512, bias=True)\n",
      "  (1): ReLU()\n",
      "  (2): Linear(in_features=512, out_features=256, bias=True)\n",
      "  (3): ReLU()\n",
      "  (4): Linear(in_features=256, out_features=128, bias=True)\n",
      "  (5): ReLU()\n",
      "  (6): Linear(in_features=128, out_features=64, bias=True)\n",
      "  (7): ReLU()\n",
      "  (8): Linear(in_features=64, out_features=200, bias=True)\n",
      "  (9): LogSoftmax()\n",
      ")\n",
      "cpu\n"
     ]
    },
    {
     "data": {
      "text/plain": [
       "Sequential(\n",
       "  (0): Linear(in_features=16384, out_features=512, bias=True)\n",
       "  (1): ReLU()\n",
       "  (2): Linear(in_features=512, out_features=256, bias=True)\n",
       "  (3): ReLU()\n",
       "  (4): Linear(in_features=256, out_features=128, bias=True)\n",
       "  (5): ReLU()\n",
       "  (6): Linear(in_features=128, out_features=64, bias=True)\n",
       "  (7): ReLU()\n",
       "  (8): Linear(in_features=64, out_features=200, bias=True)\n",
       "  (9): LogSoftmax()\n",
       ")"
      ]
     },
     "execution_count": 50,
     "metadata": {},
     "output_type": "execute_result"
    }
   ],
   "source": [
    "input_size = 16384\n",
    "hidden_sizes = [512, 256, 128, 64]  # 256, 128 (10)\n",
    "output_size = 200\n",
    "\n",
    "model = nn.Sequential(nn.Linear(input_size, hidden_sizes[0]),\n",
    "                      nn.ReLU(),\n",
    "                      nn.Linear(hidden_sizes[0], hidden_sizes[1]),\n",
    "                      nn.ReLU(),\n",
    "                      nn.Linear(hidden_sizes[1], hidden_sizes[2]),\n",
    "                      nn.ReLU(),\n",
    "                      nn.Linear(hidden_sizes[2], hidden_sizes[3]),\n",
    "                      nn.ReLU(),\n",
    "                      nn.Linear(hidden_sizes[3], output_size),\n",
    "                      nn.LogSoftmax(dim=1))\n",
    "print(model)\n",
    "device = torch.device(\"cuda\" if torch.cuda.is_available() else \"cpu\")\n",
    "print(device)\n",
    "model.to(device)"
   ]
  },
  {
   "cell_type": "code",
   "execution_count": 51,
   "metadata": {
    "scrolled": true
   },
   "outputs": [
    {
     "name": "stdout",
     "output_type": "stream",
     "text": [
      "torch.Size([64, 16384]) torch.LongTensor\n",
      "torch.Size([64]) torch.LongTensor\n"
     ]
    },
    {
     "data": {
      "image/png": "[encoded data removed]",
      "text/plain": [
       "<Figure size 432x288 with 1 Axes>"
      ]
     },
     "metadata": {
      "needs_background": "light"
     },
     "output_type": "display_data"
    }
   ],
   "source": [
    "criterion = nn.NLLLoss()\n",
    "images, labels = next(iter(loader))\n",
    "\n",
    "plt.imshow(images[0].numpy().squeeze(), cmap='gray');\n",
    "\n",
    "labelsSqueezed = labels.squeeze().type(torch.LongTensor)\n",
    "images = images.view(images.shape[0], -1)\n",
    "\n",
    "print(images.size(), labelsSqueezed.type())\n",
    "print(labelsSqueezed.size(), labelsSqueezed.type())\n",
    "\n",
    "logps = model(images.cuda() if device == \"cuda\" else images) #log probabilities\n",
    "loss = criterion(logps, labelsSqueezed.cuda() if device == \"cuda\" else labelsSqueezed) #calculate the NLL loss"
   ]
  },
  {
   "cell_type": "code",
   "execution_count": 52,
   "metadata": {},
   "outputs": [
    {
     "name": "stdout",
     "output_type": "stream",
     "text": [
      "Before backward pass: \n",
      " None\n",
      "After backward pass: \n",
      " tensor([[-2.4107e-06, -2.4107e-06, -2.4107e-06,  ..., -2.4106e-06,\n",
      "         -2.4106e-06, -2.4106e-06],\n",
      "        [ 3.3891e-04,  3.3891e-04,  3.3891e-04,  ...,  3.3891e-04,\n",
      "          3.3891e-04,  3.3891e-04],\n",
      "        [ 2.1398e-04,  2.1398e-04,  2.1398e-04,  ...,  2.1398e-04,\n",
      "          2.1398e-04,  2.1398e-04],\n",
      "        ...,\n",
      "        [-3.7500e-05, -3.7500e-05, -3.7500e-05,  ..., -3.7500e-05,\n",
      "         -3.7500e-05, -3.7500e-05],\n",
      "        [-1.9189e-04, -1.9189e-04, -1.9189e-04,  ..., -1.9189e-04,\n",
      "         -1.9189e-04, -1.9189e-04],\n",
      "        [ 0.0000e+00,  0.0000e+00,  0.0000e+00,  ...,  0.0000e+00,\n",
      "          0.0000e+00,  0.0000e+00]])\n"
     ]
    }
   ],
   "source": [
    "print('Before backward pass: \\n', model[0].weight.grad)\n",
    "\n",
    "loss.backward()\n",
    "\n",
    "print('After backward pass: \\n', model[0].weight.grad)"
   ]
  },
  {
   "cell_type": "code",
   "execution_count": 53,
   "metadata": {},
   "outputs": [],
   "source": [
    "from torch import optim\n",
    "\n",
    "# Optimizers require the parameters to optimize and a learning rate\n",
    "optimizer = optim.SGD(model.parameters(), lr=0.01, momentum=0.5)"
   ]
  },
  {
   "cell_type": "code",
   "execution_count": 54,
   "metadata": {},
   "outputs": [
    {
     "name": "stdout",
     "output_type": "stream",
     "text": [
      "Initial weights -  Parameter containing:\n",
      "tensor([[-0.0059, -0.0023, -0.0048,  ..., -0.0075,  0.0053,  0.0065],\n",
      "        [ 0.0065, -0.0011, -0.0010,  ...,  0.0061,  0.0027, -0.0017],\n",
      "        [ 0.0023, -0.0047,  0.0024,  ...,  0.0030, -0.0047, -0.0029],\n",
      "        ...,\n",
      "        [ 0.0021,  0.0064, -0.0031,  ...,  0.0053,  0.0031,  0.0067],\n",
      "        [ 0.0062,  0.0020,  0.0025,  ...,  0.0077,  0.0031, -0.0006],\n",
      "        [ 0.0068, -0.0021,  0.0009,  ..., -0.0049, -0.0042,  0.0058]],\n",
      "       requires_grad=True)\n",
      "torch.Size([64, 16384]) torch.LongTensor\n",
      "torch.Size([64]) torch.LongTensor\n",
      "Gradient - tensor([[ 4.5861e-05,  4.5861e-05,  4.5861e-05,  ...,  4.5861e-05,\n",
      "          4.5861e-05,  4.5861e-05],\n",
      "        [-4.5032e-04, -4.5032e-04, -4.5032e-04,  ..., -4.5032e-04,\n",
      "         -4.5032e-04, -4.5032e-04],\n",
      "        [-3.9615e-05, -3.9615e-05, -3.9615e-05,  ..., -3.9615e-05,\n",
      "         -3.9615e-05, -3.9615e-05],\n",
      "        ...,\n",
      "        [-8.5870e-05, -8.5870e-05, -8.5870e-05,  ..., -8.5870e-05,\n",
      "         -8.5870e-05, -8.5870e-05],\n",
      "        [-2.1597e-04, -2.1597e-04, -2.1597e-04,  ..., -2.1597e-04,\n",
      "         -2.1597e-04, -2.1597e-04],\n",
      "        [ 0.0000e+00,  0.0000e+00,  0.0000e+00,  ...,  0.0000e+00,\n",
      "          0.0000e+00,  0.0000e+00]])\n"
     ]
    }
   ],
   "source": [
    "print('Initial weights - ', model[0].weight)\n",
    "\n",
    "images, labels = next(iter(loader))\n",
    "images.resize_(64, 16384)\n",
    "\n",
    "# Clear the gradients, do this because gradients are accumulated\n",
    "optimizer.zero_grad()\n",
    "\n",
    "labelsSqueezed = labels.squeeze().type(torch.LongTensor)\n",
    "print(images.size(), labelsSqueezed.type())\n",
    "print(labelsSqueezed.size(), labelsSqueezed.type())\n",
    "\n",
    "# Forward pass, then backward pass, then update weights\n",
    "output = model(images.cuda() if device == \"cuda\" else images) #log probabilities\n",
    "loss = criterion(output, labelsSqueezed.cuda() if device == \"cuda\" else labelsSqueezed) #calculate the NLL loss\n",
    "\n",
    "loss.backward()\n",
    "print('Gradient -', model[0].weight.grad)"
   ]
  },
  {
   "cell_type": "code",
   "execution_count": 55,
   "metadata": {},
   "outputs": [
    {
     "name": "stdout",
     "output_type": "stream",
     "text": [
      "Updated weights -  Parameter containing:\n",
      "tensor([[-0.0059, -0.0023, -0.0048,  ..., -0.0075,  0.0053,  0.0065],\n",
      "        [ 0.0065, -0.0011, -0.0010,  ...,  0.0061,  0.0027, -0.0017],\n",
      "        [ 0.0023, -0.0047,  0.0024,  ...,  0.0030, -0.0047, -0.0029],\n",
      "        ...,\n",
      "        [ 0.0021,  0.0064, -0.0031,  ...,  0.0053,  0.0031,  0.0067],\n",
      "        [ 0.0062,  0.0020,  0.0025,  ...,  0.0077,  0.0031, -0.0006],\n",
      "        [ 0.0068, -0.0021,  0.0009,  ..., -0.0049, -0.0042,  0.0058]],\n",
      "       requires_grad=True)\n"
     ]
    }
   ],
   "source": [
    "# Take an update step and few the new weights\n",
    "optimizer.step()\n",
    "print('Updated weights - ', model[0].weight)"
   ]
  },
  {
   "cell_type": "code",
   "execution_count": null,
   "metadata": {
    "scrolled": true
   },
   "outputs": [],
   "source": [
    "optimizer = optim.SGD(model.parameters(), lr=0.008, momentum=0.5)  # lr=0.002, momentum=0.5\n",
    "time0 = time()\n",
    "epochs = 100\n",
    "for e in range(epochs):\n",
    "    running_loss = 0\n",
    "    for images, labels in loader:\n",
    "        # Flatten MNIST images into a 784 long vector\n",
    "        images = images.view(images.shape[0], -1)\n",
    "        labels = labels.squeeze().type(torch.LongTensor)\n",
    "        \n",
    "        # Training pass\n",
    "        optimizer.zero_grad()\n",
    "        \n",
    "        output = model(images.cuda() if device == \"cuda\" else images) # log probabilities\n",
    "        loss = criterion(output, labels.cuda() if device == \"cuda\" else labelsSqueezed) # NLL loss\n",
    "        \n",
    "        #This is where the model learns by backpropagating\n",
    "        loss.backward()\n",
    "        \n",
    "        #And optimizes its weights here\n",
    "        optimizer.step()\n",
    "        \n",
    "        running_loss += loss.item()\n",
    "    else:\n",
    "        print(\"Epoch {} - Training loss: {}\".format(e, running_loss/len(loader)))\n",
    "print(\"\\nTraining Time (in minutes) =\",(time()-time0)/60)\n"
   ]
  },
  {
   "cell_type": "code",
   "execution_count": 21,
   "metadata": {},
   "outputs": [],
   "source": [
    "def view_classify(img, ps):\n",
    "    ''' Function for viewing an image and it's predicted classes.\n",
    "    '''\n",
    "    ps = ps.data.numpy().squeeze()\n",
    "\n",
    "    fig, (ax1, ax2) = plt.subplots(figsize=(6,9), ncols=2)\n",
    "    ax1.imshow(img.resize_(1, 28, 28).numpy().squeeze())\n",
    "    ax1.axis('off')\n",
    "    ax2.barh(np.arange(10), ps)\n",
    "    ax2.set_aspect(0.1)\n",
    "    ax2.set_yticks(np.arange(10))\n",
    "    ax2.set_yticklabels(np.arange(10))\n",
    "    ax2.set_title('Class Probability')\n",
    "    ax2.set_xlim(0, 1.1)\n",
    "    plt.tight_layout()"
   ]
  },
  {
   "cell_type": "code",
   "execution_count": 39,
   "metadata": {},
   "outputs": [
    {
     "name": "stdout",
     "output_type": "stream",
     "text": [
      "\n",
      "ｃ==豹\n",
      "Predicted Digit = 12\n"
     ]
    },
    {
     "data": {
      "image/png": "[encoded data removed]",
      "text/plain": [
       "<Figure size 432x288 with 1 Axes>"
      ]
     },
     "metadata": {
      "needs_background": "light"
     },
     "output_type": "display_data"
    }
   ],
   "source": [
    "images, labels = next(iter(loader))\n",
    "\n",
    "plt.imshow(images[0].numpy().squeeze(), cmap='gray');\n",
    "\n",
    "print()\n",
    "\n",
    "img = images[0].view(1, 16384)\n",
    "# Turn off gradients to speed up this part\n",
    "with torch.no_grad():\n",
    "    logps = model(img.cuda() if device == \"cuda\" else img)\n",
    "\n",
    "# Output of the network are log-probabilities, need to take exponential for probabilities\n",
    "ps = torch.exp(logps)\n",
    "probab = list(ps.numpy()[0])\n",
    "print(lbls[probab.index(max(probab))] + \"==\" + lbls[int(labels[0].numpy()[0])])\n",
    "print(\"Predicted Digit =\", probab.index(max(probab)))\n",
    "#view_classify(img.view(1,128, 128), ps)"
   ]
  },
  {
   "cell_type": "code",
   "execution_count": 41,
   "metadata": {},
   "outputs": [
    {
     "ename": "NameError",
     "evalue": "name 'valloader' is not defined",
     "output_type": "error",
     "traceback": [
      "\u001b[0;31m---------------------------------------------------------------------------\u001b[0m",
      "\u001b[0;31mNameError\u001b[0m                                 Traceback (most recent call last)",
      "\u001b[0;32m<ipython-input-41-86871b0c34e7>\u001b[0m in \u001b[0;36m<module>\u001b[0;34m\u001b[0m\n\u001b[1;32m      1\u001b[0m \u001b[0mcorrect_count\u001b[0m\u001b[0;34m,\u001b[0m \u001b[0mall_count\u001b[0m \u001b[0;34m=\u001b[0m \u001b[0;36m0\u001b[0m\u001b[0;34m,\u001b[0m \u001b[0;36m0\u001b[0m\u001b[0;34m\u001b[0m\u001b[0;34m\u001b[0m\u001b[0m\n\u001b[0;32m----> 2\u001b[0;31m \u001b[0;32mfor\u001b[0m \u001b[0mimages\u001b[0m\u001b[0;34m,\u001b[0m\u001b[0mlabels\u001b[0m \u001b[0;32min\u001b[0m \u001b[0mvalloader\u001b[0m\u001b[0;34m:\u001b[0m\u001b[0;34m\u001b[0m\u001b[0;34m\u001b[0m\u001b[0m\n\u001b[0m\u001b[1;32m      3\u001b[0m   \u001b[0;32mfor\u001b[0m \u001b[0mi\u001b[0m \u001b[0;32min\u001b[0m \u001b[0mrange\u001b[0m\u001b[0;34m(\u001b[0m\u001b[0mlen\u001b[0m\u001b[0;34m(\u001b[0m\u001b[0mlabels\u001b[0m\u001b[0;34m)\u001b[0m\u001b[0;34m)\u001b[0m\u001b[0;34m:\u001b[0m\u001b[0;34m\u001b[0m\u001b[0;34m\u001b[0m\u001b[0m\n\u001b[1;32m      4\u001b[0m     \u001b[0mimg\u001b[0m \u001b[0;34m=\u001b[0m \u001b[0mimages\u001b[0m\u001b[0;34m[\u001b[0m\u001b[0mi\u001b[0m\u001b[0;34m]\u001b[0m\u001b[0;34m.\u001b[0m\u001b[0mview\u001b[0m\u001b[0;34m(\u001b[0m\u001b[0;36m1\u001b[0m\u001b[0;34m,\u001b[0m \u001b[0;36m784\u001b[0m\u001b[0;34m)\u001b[0m\u001b[0;34m\u001b[0m\u001b[0;34m\u001b[0m\u001b[0m\n\u001b[1;32m      5\u001b[0m     \u001b[0;31m# Turn off gradients to speed up this part\u001b[0m\u001b[0;34m\u001b[0m\u001b[0;34m\u001b[0m\u001b[0;34m\u001b[0m\u001b[0m\n",
      "\u001b[0;31mNameError\u001b[0m: name 'valloader' is not defined"
     ]
    }
   ],
   "source": [
    "correct_count, all_count = 0, 0\n",
    "for images,labels in valloader:\n",
    "  for i in range(len(labels)):\n",
    "    img = images[i].view(1, 784)\n",
    "    # Turn off gradients to speed up this part\n",
    "    with torch.no_grad():\n",
    "        logps = model(img)\n",
    "\n",
    "    # Output of the network are log-probabilities, need to take exponential for probabilities\n",
    "    ps = torch.exp(logps)\n",
    "    probab = list(ps.numpy()[0])\n",
    "    pred_label = probab.index(max(probab))\n",
    "    true_label = labels.numpy()[i]\n",
    "    if(true_label == pred_label):\n",
    "      correct_count += 1\n",
    "    all_count += 1\n",
    "\n",
    "print(\"Number Of Images Tested =\", all_count)\n",
    "print(\"\\nModel Accuracy =\", (correct_count/all_count))"
   ]
  },
  {
   "cell_type": "code",
   "execution_count": null,
   "metadata": {},
   "outputs": [],
   "source": []
  },
  {
   "cell_type": "code",
   "execution_count": null,
   "metadata": {},
   "outputs": [],
   "source": []
  }
 ],
 "metadata": {
  "kernelspec": {
   "display_name": "Python 3",
   "language": "python",
   "name": "python3"
  },
  "language_info": {
   "codemirror_mode": {
    "name": "ipython",
    "version": 3
   },
   "file_extension": ".py",
   "mimetype": "text/x-python",
   "name": "python",
   "nbconvert_exporter": "python",
   "pygments_lexer": "ipython3",
   "version": "3.7.6"
  }
 },
 "nbformat": 4,
 "nbformat_minor": 4
}
